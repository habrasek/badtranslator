{
 "cells": [
  {
   "cell_type": "code",
   "execution_count": 1,
   "metadata": {},
   "outputs": [],
   "source": [
    "from bs4 import BeautifulSoup\n",
    "import requests\n",
    "import json\n",
    "import csv"
   ]
  },
  {
   "cell_type": "code",
   "execution_count": 2,
   "metadata": {},
   "outputs": [],
   "source": [
    "import time\n",
    "import datetime\n",
    " \n",
    "# Create class that acts as a countdown\n",
    "def countdown(s):\n",
    " \n",
    "    # Calculate the total number of seconds\n",
    "    total_seconds = s\n",
    " \n",
    "    # While loop that checks if total_seconds reaches zero\n",
    "    # If not zero, decrement total time by one second\n",
    "    while total_seconds > 0:\n",
    " \n",
    "        # Timer represents time left on countdown\n",
    "        timer = datetime.timedelta(seconds = total_seconds)\n",
    "        \n",
    "        # Prints the time left on the timer\n",
    "        print(timer, end=\"\\r\")\n",
    " \n",
    "        # Delays the program one second\n",
    "        time.sleep(1)\n",
    " \n",
    "        # Reduces total time by one second\n",
    "        total_seconds -= 1\n",
    " \n",
    "    print(\"Bzzzt! The countdown is at zero seconds!\")\n",
    "    \n",
    "# s = input(\"Enter the time in seconds: \")\n",
    "# countdown(int(s))"
   ]
  },
  {
   "cell_type": "code",
   "execution_count": 3,
   "metadata": {},
   "outputs": [
    {
     "name": "stdout",
     "output_type": "stream",
     "text": [
      "Type in a word or sentence: another happy landing\n",
      "another%20happy%20landing\n"
     ]
    }
   ],
   "source": [
    "enter = input('Type in a word or sentence: ')\n",
    "\n",
    "url_input = enter.replace(' ', '%20')\n",
    "\n",
    "print(url_input)"
   ]
  },
  {
   "cell_type": "code",
   "execution_count": 4,
   "metadata": {},
   "outputs": [
    {
     "name": "stdout",
     "output_type": "stream",
     "text": [
      "https://translate.yandex.com/?lang=en-zh&text=another%20happy%20landing\n"
     ]
    }
   ],
   "source": [
    "url = f'https://translate.google.com/?sl=en&tl=zh-TW&text={url_input}&op=translate'\n",
    "\n",
    "url =  f'https://translate.yandex.com/?lang=en-zh&text={url_input}'\n",
    "\n",
    "print(url)"
   ]
  },
  {
   "cell_type": "code",
   "execution_count": 5,
   "metadata": {},
   "outputs": [],
   "source": [
    "# response = requests.get(url)\n",
    "\n",
    "# soup = BeautifulSoup(response.text, 'html.parser')\n",
    "\n",
    "# print(soup)"
   ]
  },
  {
   "cell_type": "code",
   "execution_count": 6,
   "metadata": {},
   "outputs": [],
   "source": [
    "# <span class=\"Q4iAWc\" jsaction=\"click:qtZ4nf,GFf3ac,tMZCfe; contextmenu:Nqw7Te,QP7LD; \n",
    "# mouseout:Nqw7Te; mouseover:qtZ4nf,c2aHje\" jsname=\"W297wb\">你好嗎</span>\n",
    "\n",
    "# results = soup.find_all('div', attrs={'class':'box box_dst'})"
   ]
  },
  {
   "cell_type": "code",
   "execution_count": 7,
   "metadata": {},
   "outputs": [],
   "source": [
    "# str_results = []\n",
    "\n",
    "# for r in results:\n",
    "#     str_results.append(str(r))"
   ]
  },
  {
   "cell_type": "code",
   "execution_count": 8,
   "metadata": {},
   "outputs": [
    {
     "name": "stderr",
     "output_type": "stream",
     "text": [
      "\n",
      "\n",
      "====== WebDriver manager ======\n",
      "Current google-chrome version is 103.0.5060\n",
      "Get LATEST driver version for 103.0.5060\n",
      "Driver [/Users/hbrasek/.wdm/drivers/chromedriver/mac64/103.0.5060.53/chromedriver] found in cache\n"
     ]
    }
   ],
   "source": [
    "from splinter import Browser\n",
    "from bs4 import BeautifulSoup\n",
    "from webdriver_manager.chrome import ChromeDriverManager\n",
    "\n",
    "executable_path = {'executable_path': ChromeDriverManager().install()}\n",
    "browser = Browser('chrome', **executable_path, headless=False)\n",
    "\n",
    "browser.visit(url)"
   ]
  },
  {
   "cell_type": "code",
   "execution_count": 9,
   "metadata": {},
   "outputs": [
    {
     "name": "stdout",
     "output_type": "stream",
     "text": [
      "Bzzzt! The countdown is at zero seconds!\n"
     ]
    }
   ],
   "source": [
    "countdown(20)"
   ]
  },
  {
   "cell_type": "code",
   "execution_count": 10,
   "metadata": {},
   "outputs": [],
   "source": [
    "# for x in range(1, 6):\n",
    "\n",
    "html = browser.html\n",
    "soup = BeautifulSoup(html, 'html.parser')\n",
    "\n",
    "quotes = soup.find_all('span', class_='translation-word translation-chunk')\n",
    "\n",
    "#     for quote in quotes:\n",
    "#         print('page:', x, '-------------')\n",
    "#         print(quote.text)\n",
    "\n",
    "#     browser.links.find_by_partial_text('Next').click()"
   ]
  },
  {
   "cell_type": "code",
   "execution_count": 11,
   "metadata": {},
   "outputs": [],
   "source": [
    "# browser.quit()"
   ]
  },
  {
   "cell_type": "code",
   "execution_count": 12,
   "metadata": {},
   "outputs": [],
   "source": [
    "characters = str(quotes[0].text)"
   ]
  },
  {
   "cell_type": "code",
   "execution_count": 13,
   "metadata": {},
   "outputs": [
    {
     "name": "stdout",
     "output_type": "stream",
     "text": [
      "又是一个快乐的着陆\n"
     ]
    }
   ],
   "source": [
    "characters = characters.replace(' ', '')\n",
    "\n",
    "characters = characters.replace('，', '')\n",
    "\n",
    "print(characters)"
   ]
  },
  {
   "cell_type": "code",
   "execution_count": 14,
   "metadata": {},
   "outputs": [
    {
     "data": {
      "text/plain": [
       "str"
      ]
     },
     "execution_count": 14,
     "metadata": {},
     "output_type": "execute_result"
    }
   ],
   "source": [
    "type(characters)"
   ]
  },
  {
   "cell_type": "code",
   "execution_count": 15,
   "metadata": {},
   "outputs": [
    {
     "data": {
      "text/plain": [
       "9"
      ]
     },
     "execution_count": 15,
     "metadata": {},
     "output_type": "execute_result"
    }
   ],
   "source": [
    "len(characters)"
   ]
  },
  {
   "cell_type": "code",
   "execution_count": 16,
   "metadata": {},
   "outputs": [
    {
     "name": "stdout",
     "output_type": "stream",
     "text": [
      "Bzzzt! The countdown is at zero seconds!\n",
      "again\n",
      "Bzzzt! The countdown is at zero seconds!\n",
      "Yes\n",
      "Bzzzt! The countdown is at zero seconds!\n",
      "one\n",
      "Bzzzt! The countdown is at zero seconds!\n",
      "indivual\n",
      "Bzzzt! The countdown is at zero seconds!\n",
      "quick\n",
      "Bzzzt! The countdown is at zero seconds!\n",
      "happy\n",
      "Bzzzt! The countdown is at zero seconds!\n",
      "of\n",
      "Bzzzt! The countdown is at zero seconds!\n",
      "Be\n",
      "Bzzzt! The countdown is at zero seconds!\n",
      "land\n"
     ]
    }
   ],
   "source": [
    "sentence = []\n",
    "\n",
    "for x in characters:\n",
    "#     url = f'https://translate.yandex.com/?lang=zh-en&text={x}'\n",
    "    url = f'https://translate.google.com/?sl=zh-CN&tl=en&text={x}&op=translate'\n",
    "    browser.visit(url)\n",
    "    \n",
    "    countdown(3)\n",
    "    \n",
    "    html = browser.html\n",
    "    soup = BeautifulSoup(html, 'html.parser')\n",
    "\n",
    "    quotes = soup.find_all('span', class_='Q4iAWc')\n",
    "    \n",
    "    characters = str(quotes[0].text)\n",
    "    \n",
    "#     print(characters)\n",
    "    \n",
    "    sentence.append(characters)\n",
    "    \n"
   ]
  },
  {
   "cell_type": "code",
   "execution_count": 17,
   "metadata": {},
   "outputs": [
    {
     "name": "stdout",
     "output_type": "stream",
     "text": [
      " again Yes one indivual quick happy of Be land\n"
     ]
    }
   ],
   "source": [
    "final = ''\n",
    "\n",
    "for word in sentence:\n",
    "    final  += f' {word}'\n",
    "    \n",
    "print(final)"
   ]
  },
  {
   "cell_type": "code",
   "execution_count": 18,
   "metadata": {},
   "outputs": [],
   "source": [
    "browser.quit()"
   ]
  },
  {
   "cell_type": "code",
   "execution_count": 19,
   "metadata": {},
   "outputs": [],
   "source": [
    "# <span class=\"Q4iAWc\" jsaction=\"click:qtZ4nf,GFf3ac,tMZCfe; contextmenu:Nqw7Te,QP7LD; mouseout:Nqw7Te; mouseover:qtZ4nf,c2aHje\" \n",
    "# jsname=\"W297wb\">Hello</span>"
   ]
  }
 ],
 "metadata": {
  "kernelspec": {
   "display_name": "Python 3",
   "language": "python",
   "name": "python3"
  },
  "language_info": {
   "codemirror_mode": {
    "name": "ipython",
    "version": 3
   },
   "file_extension": ".py",
   "mimetype": "text/x-python",
   "name": "python",
   "nbconvert_exporter": "python",
   "pygments_lexer": "ipython3",
   "version": "3.8.5"
  }
 },
 "nbformat": 4,
 "nbformat_minor": 4
}
